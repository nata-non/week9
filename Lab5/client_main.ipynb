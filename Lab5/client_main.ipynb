{
 "cells": [
  {
   "cell_type": "code",
   "execution_count": 8,
   "metadata": {},
   "outputs": [
    {
     "ename": "ModuleNotFoundError",
     "evalue": "No module named 'requests'",
     "output_type": "error",
     "traceback": [
      "\u001b[0;31m---------------------------------------------------------------------------\u001b[0m",
      "\u001b[0;31mModuleNotFoundError\u001b[0m                       Traceback (most recent call last)",
      "Cell \u001b[0;32mIn[8], line 1\u001b[0m\n\u001b[0;32m----> 1\u001b[0m \u001b[39mimport\u001b[39;00m \u001b[39mrequests\u001b[39;00m\n\u001b[1;32m      2\u001b[0m \u001b[39mimport\u001b[39;00m \u001b[39mbase64\u001b[39;00m\n\u001b[1;32m      3\u001b[0m \u001b[39mimport\u001b[39;00m \u001b[39mmatplotlib\u001b[39;00m\u001b[39m.\u001b[39;00m\u001b[39mpyplot\u001b[39;00m \u001b[39mas\u001b[39;00m \u001b[39mplt\u001b[39;00m\n",
      "\u001b[0;31mModuleNotFoundError\u001b[0m: No module named 'requests'"
     ]
    }
   ],
   "source": [
    "import requests\n",
    "import base64\n",
    "import matplotlib.pyplot as plt\n",
    "import numpy as np\n",
    "import cv2\n",
    "import json\n",
    "\n",
    "\n",
    "# encode image as base64 string\n",
    "def encode_image(image):\n",
    "    _, encoded_image = cv2.imencode(\".jpg\", image)\n",
    "    return \"data:image/jpeg;base64,\" + base64.b64encode(encoded_image).decode()\n",
    "\n",
    "# decode base64 string to image\n",
    "def decode_image(image_string):\n",
    "    encoded_data = image_string.split(',')[1]\n",
    "    nparr = np.frombuffer(base64.b64decode(encoded_data), np.uint8)\n",
    "    return cv2.imdecode(nparr, cv2.IMREAD_COLOR)\n",
    "\n",
    "\n",
    "\n",
    "image_file = 'building.jpg'\n",
    "url        = \"http://52.196.50.93:8088/\"\n",
    "\n",
    "\n",
    "# Load the image\n",
    "image        = cv2.imread(image_file)\n",
    "image        = cv2.cvtColor(image, cv2.COLOR_BGR2RGB)\n",
    "image_string = encode_image(image)\n",
    "\n",
    "payload = {\n",
    "    \"image\": image_string,\n",
    "    \"name\": \"John\",\n",
    "    \"surname\": \"Doe\",\n",
    "    \"numbers\": [1, 2, 3, 4, 5]\n",
    "}\n",
    "\n",
    "response = requests.post(f\"{url}/process-image\", json=payload)\n",
    "data = json.loads(response.content)\n",
    "\n",
    "processed_image_string = data[\"processed_image\"]\n",
    "processed_image        = decode_image(processed_image_string)\n",
    "\n",
    "\n"
   ]
  },
  {
   "cell_type": "code",
   "execution_count": 2,
   "metadata": {},
   "outputs": [
    {
     "ename": "NameError",
     "evalue": "name 'plt' is not defined",
     "output_type": "error",
     "traceback": [
      "\u001b[0;31m---------------------------------------------------------------------------\u001b[0m",
      "\u001b[0;31mNameError\u001b[0m                                 Traceback (most recent call last)",
      "Cell \u001b[0;32mIn[2], line 2\u001b[0m\n\u001b[1;32m      1\u001b[0m \u001b[39m# Create a figure and set the title\u001b[39;00m\n\u001b[0;32m----> 2\u001b[0m fig \u001b[39m=\u001b[39m plt\u001b[39m.\u001b[39mfigure(figsize\u001b[39m=\u001b[39m(\u001b[39m12\u001b[39m, \u001b[39m4\u001b[39m))\n\u001b[1;32m      3\u001b[0m fig\u001b[39m.\u001b[39msuptitle(\u001b[39m'\u001b[39m\u001b[39mComparison of Images\u001b[39m\u001b[39m'\u001b[39m)\n\u001b[1;32m      5\u001b[0m \u001b[39m# Add the first image to the left subplot\u001b[39;00m\n",
      "\u001b[0;31mNameError\u001b[0m: name 'plt' is not defined"
     ]
    }
   ],
   "source": [
    "\n",
    "# Create a figure and set the title\n",
    "fig = plt.figure(figsize=(12, 4))\n",
    "fig.suptitle('Comparison of Images')\n",
    "\n",
    "# Add the first image to the left subplot\n",
    "ax1 = fig.add_subplot(1, 2, 1)\n",
    "ax1.imshow(image)\n",
    "ax1.set_title('Original image')\n",
    "\n",
    "# Add the second image to the right subplot\n",
    "ax2 = fig.add_subplot(1, 2, 2)\n",
    "ax2.imshow(processed_image)\n",
    "ax2.set_title('Processed image')\n",
    "\n",
    "# Show the plot\n",
    "plt.show()"
   ]
  },
  {
   "cell_type": "code",
   "execution_count": null,
   "metadata": {},
   "outputs": [],
   "source": []
  }
 ],
 "metadata": {
  "kernelspec": {
   "display_name": "Python 3.10.6 64-bit",
   "language": "python",
   "name": "python3"
  },
  "language_info": {
   "codemirror_mode": {
    "name": "ipython",
    "version": 3
   },
   "file_extension": ".py",
   "mimetype": "text/x-python",
   "name": "python",
   "nbconvert_exporter": "python",
   "pygments_lexer": "ipython3",
   "version": "3.10.6"
  },
  "orig_nbformat": 4,
  "vscode": {
   "interpreter": {
    "hash": "b0fa6594d8f4cbf19f97940f81e996739fb7646882a419484c72d19e05852a7e"
   }
  }
 },
 "nbformat": 4,
 "nbformat_minor": 2
}
